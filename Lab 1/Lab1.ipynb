{
  "nbformat": 4,
  "nbformat_minor": 0,
  "metadata": {
    "colab": {
      "provenance": []
    },
    "kernelspec": {
      "name": "python3",
      "display_name": "Python 3"
    },
    "language_info": {
      "name": "python"
    }
  },
  "cells": [
    {
      "cell_type": "markdown",
      "source": [
        "# Lab Exercise 1. Scraping Static Websites\n"
      ],
      "metadata": {
        "id": "skreU4ZawqQ_"
      }
    },
    {
      "cell_type": "markdown",
      "source": [
        "This is the warmup task for the first laboratory exercise. It consists of scraping static Websites with BeautifulSoap.\n",
        "\n",
        " It should be completed at home and presented at the laboratory."
      ],
      "metadata": {
        "id": "VzAWoqz5wwT9"
      }
    },
    {
      "cell_type": "markdown",
      "source": [
        "**Total points: 2**"
      ],
      "metadata": {
        "id": "qpdvbrsow5EE"
      }
    },
    {
      "cell_type": "markdown",
      "source": [
        "### Task Description"
      ],
      "metadata": {
        "id": "6eDmGLrXx0t8"
      }
    },
    {
      "cell_type": "markdown",
      "source": [
        "Scrape the information about the products on the following page:\n",
        "https://clevershop.mk/product-category/mobilni-laptopi-i-tableti/"
      ],
      "metadata": {
        "id": "RG42MHsDxAP_"
      }
    },
    {
      "cell_type": "markdown",
      "source": [
        "For each product scrape:\n",
        "\n",
        "\n",
        "*   Product title (selector `'.wd-entities-title'`)\n",
        "*   Product regular price (selector `'.woocommerce-Price-amount'`)\n",
        "*   Product discount price (if available), same selector as regular price\n",
        "*   URL to the product page\n",
        "*   Add to cart button URL\n",
        "\n",
        "***Help: There are multiple product pages, for each page you need to send a separate request***\n"
      ],
      "metadata": {
        "id": "uoTcMRl4xP3G"
      }
    },
    {
      "cell_type": "markdown",
      "source": [
        "Save the results as a DataFrame object"
      ],
      "metadata": {
        "id": "tc0QvUR8xxwt"
      }
    },
    {
      "cell_type": "markdown",
      "source": [
        "You can add as many code cells as you need."
      ],
      "metadata": {
        "id": "peGjiUZLzbZt"
      }
    },
    {
      "cell_type": "markdown",
      "source": [
        "________________________________________________________________"
      ],
      "metadata": {
        "id": "b7U-kwKSzUIV"
      }
    },
    {
      "cell_type": "markdown",
      "source": [
        "### Requirements"
      ],
      "metadata": {
        "id": "yn5gyMzNx5Vk"
      }
    },
    {
      "cell_type": "markdown",
      "source": [
        "Import libraries and modules that you are going to use"
      ],
      "metadata": {
        "id": "WZ3ifNLhx7tk"
      }
    },
    {
      "cell_type": "code",
      "source": [
        "from google.colab import drive\n",
        "drive.mount('/content/drive')"
      ],
      "metadata": {
        "colab": {
          "base_uri": "https://localhost:8080/"
        },
        "id": "lgw2bZzy5JJF",
        "outputId": "47eee6aa-60d8-4382-c3b5-9e44884ccda8"
      },
      "execution_count": null,
      "outputs": [
        {
          "output_type": "stream",
          "name": "stdout",
          "text": [
            "Mounted at /content/drive\n"
          ]
        }
      ]
    },
    {
      "cell_type": "code",
      "source": [
        "import pandas as pd\n",
        "import requests\n",
        "from bs4 import BeautifulSoup\n",
        "import re"
      ],
      "metadata": {
        "id": "GQ3zSO8WyJC_"
      },
      "execution_count": null,
      "outputs": []
    },
    {
      "cell_type": "markdown",
      "source": [
        "### Send HTTP request to the target Website"
      ],
      "metadata": {
        "id": "fsR71mugyJP7"
      }
    },
    {
      "cell_type": "code",
      "source": [
        "base_url=\"https://clevershop.mk/product-category/mobilni-laptopi-i-tableti/page/\"\n",
        "URL=[]\n",
        "for i in range(1,15):\n",
        "  URL.append(base_url+str(i)+\"/\")"
      ],
      "metadata": {
        "id": "61ImGen2yQff"
      },
      "execution_count": null,
      "outputs": []
    },
    {
      "cell_type": "markdown",
      "source": [
        "check the response status code"
      ],
      "metadata": {
        "id": "lFnRsSVJyXit"
      }
    },
    {
      "cell_type": "code",
      "source": [
        "for url in URL:\n",
        "  source=requests.get(url)\n",
        "  print(source.status_code)\n",
        "  soap=BeautifulSoup(source.text,\"html.parser\")\n",
        "  #print(soap.prettify())"
      ],
      "metadata": {
        "id": "xy6xJ3RGyXUN",
        "colab": {
          "base_uri": "https://localhost:8080/"
        },
        "outputId": "fbe9cc9e-1615-46d3-a48c-3fbda60b2be0"
      },
      "execution_count": null,
      "outputs": [
        {
          "output_type": "stream",
          "name": "stdout",
          "text": [
            "200\n",
            "200\n",
            "200\n",
            "200\n",
            "200\n",
            "200\n",
            "200\n",
            "200\n",
            "200\n",
            "200\n",
            "200\n",
            "200\n",
            "200\n",
            "200\n"
          ]
        }
      ]
    },
    {
      "cell_type": "markdown",
      "source": [
        "### Parse the response content with BeautifulSoap"
      ],
      "metadata": {
        "id": "-MykzAV4yQ4j"
      }
    },
    {
      "cell_type": "code",
      "source": [],
      "metadata": {
        "id": "F92A3wvlyUBc"
      },
      "execution_count": null,
      "outputs": []
    },
    {
      "cell_type": "markdown",
      "source": [
        "### Extract data from the BeautifulSoap object using any selectors, attribute identifiers, etc."
      ],
      "metadata": {
        "id": "F8hifMvVycfV"
      }
    },
    {
      "cell_type": "markdown",
      "source": [
        "* Product title (selector '.wd-entities-title')\n",
        "* Product regular price (selector '.woocommerce-Price-amount')\n",
        "* Product discount price (if available), same selector as regular price\n",
        "* URL to the product page\n",
        "* Add to cart button URL"
      ],
      "metadata": {
        "id": "sHgfHr61y2tD"
      }
    },
    {
      "cell_type": "code",
      "source": [
        "def extract_product_characteristics_as_dict(product):\n",
        "  title=product.select_one(\".wd-entities-title a\").text\n",
        "  price=product.select(\".woocommerce-Price-amount\")\n",
        "  regular_price=price[0].text\n",
        "  if len(price)>1:\n",
        "    discount_price=price[1].text\n",
        "  else:\n",
        "    discount_price=None\n",
        "  page_link=product.select_one(\".wd-entities-title a\")[\"href\"]\n",
        "  add_to_cart_link=product.select_one(\".wd-add-btn a\")[\"href\"]\n",
        "  product_dict={\n",
        "    \"ProductTitle\":title,\n",
        "    \"RegularPrice\":regular_price,\n",
        "    \"DiscountPrice\":discount_price,\n",
        "    \"ProductPage\":page_link,\n",
        "    \"AddToCart\":add_to_cart_link\n",
        "  }\n",
        "  return(product_dict)"
      ],
      "metadata": {
        "id": "KQRY7Jgd2UYD"
      },
      "execution_count": null,
      "outputs": []
    },
    {
      "cell_type": "code",
      "source": [
        "parsed_products=[]\n",
        "for url in URL:\n",
        "  source=requests.get(url)\n",
        "  soap=BeautifulSoup(source.text,\"html.parser\")\n",
        "  products=soap.select(\".product-grid-item\")\n",
        "  for product in products:\n",
        "    result=extract_product_characteristics_as_dict(product)\n",
        "    parsed_products.append(result)"
      ],
      "metadata": {
        "id": "UV1kZCRyycQF"
      },
      "execution_count": null,
      "outputs": []
    },
    {
      "cell_type": "markdown",
      "source": [
        "Repeat the extraction process for each page of products"
      ],
      "metadata": {
        "id": "gToy7d5Jy9Qk"
      }
    },
    {
      "cell_type": "code",
      "source": [
        "source=requests.get(URL[0])\n",
        "soap=BeautifulSoup(source.text,\"html.parser\")\n",
        "products=soap.select(\".product-grid-item\")\n",
        "product=products[2]\n",
        "title=product.select_one(\".wd-entities-title a\").text\n",
        "price=product.select(\".woocommerce-Price-amount\")\n",
        "regular_price=price[0].text\n",
        "link=product.select_one(\".wd-entities-title a\")[\"href\"]\n",
        "product.select_one(\".wd-add-btn a\")[\"href\"]"
      ],
      "metadata": {
        "id": "rVdYuEv3zArs",
        "colab": {
          "base_uri": "https://localhost:8080/",
          "height": 36
        },
        "outputId": "948b361b-e5a2-4f10-aeff-f92649053289"
      },
      "execution_count": null,
      "outputs": [
        {
          "output_type": "execute_result",
          "data": {
            "text/plain": [
              "'?add-to-cart=20826'"
            ],
            "application/vnd.google.colaboratory.intrinsic+json": {
              "type": "string"
            }
          },
          "metadata": {},
          "execution_count": 99
        }
      ]
    },
    {
      "cell_type": "markdown",
      "source": [
        "### Create a pandas DataFrame with the scraped products"
      ],
      "metadata": {
        "id": "R4OIUt0AynuU"
      }
    },
    {
      "cell_type": "code",
      "source": [
        "df=pd.DataFrame(parsed_products)\n",
        "df.head(10)"
      ],
      "metadata": {
        "id": "-wCzGEj8yrKU",
        "colab": {
          "base_uri": "https://localhost:8080/",
          "height": 363
        },
        "outputId": "b6c9e2b9-27b0-4387-8250-5f47cd473851"
      },
      "execution_count": null,
      "outputs": [
        {
          "output_type": "execute_result",
          "data": {
            "text/plain": [
              "                        ProductTitle RegularPrice DiscountPrice  \\\n",
              "0                  Acer A315-23-A7KD   17.590 ден          None   \n",
              "1                  Acer A315-23-R5P2   27.490 ден          None   \n",
              "2              ACER Aspire 1 A115-22   18.999 ден    15.999 ден   \n",
              "3         Acer Aspire 3 A315-23-R26A   29.990 ден          None   \n",
              "4         Acer Aspire 3 A315-58-33WK   24.490 ден          None   \n",
              "5         Acer Aspire 3 A315-58-33WK   25.990 ден          None   \n",
              "6       ACER Aspire 5 (A515-56-35KA)   23.990 ден          None   \n",
              "7              ACER ASPIRE 5 A515-45   29.990 ден          None   \n",
              "8  Acer Aspire 5 A515-45-R07Y Silver   24.990 ден          None   \n",
              "9         Acer Aspire 5 A515-45-R1FG   36.990 ден          None   \n",
              "\n",
              "                                         ProductPage           AddToCart  \n",
              "0   https://clevershop.mk/product/acer-a315-23-a7kd/  ?add-to-cart=21494  \n",
              "1   https://clevershop.mk/product/acer-a315-23-r5p2/  ?add-to-cart=21510  \n",
              "2  https://clevershop.mk/product/acer-aspire-1-nx...  ?add-to-cart=20826  \n",
              "3  https://clevershop.mk/product/acer-aspire-3-a3...  ?add-to-cart=21516  \n",
              "4               https://clevershop.mk/product/21498/  ?add-to-cart=21498  \n",
              "5  https://clevershop.mk/product/acer-aspire-3-a3...  ?add-to-cart=21506  \n",
              "6  https://clevershop.mk/product/acer-aspire-5-a5...  ?add-to-cart=21693  \n",
              "7  https://clevershop.mk/product/acer-aspire-5-a5...  ?add-to-cart=21523  \n",
              "8  https://clevershop.mk/product/acer-aspire-5-a5...  ?add-to-cart=21501  \n",
              "9  https://clevershop.mk/product/acer-aspire-5-a5...  ?add-to-cart=18324  "
            ],
            "text/html": [
              "\n",
              "  <div id=\"df-c38f42fe-d987-4165-a33b-2533955d26c4\" class=\"colab-df-container\">\n",
              "    <div>\n",
              "<style scoped>\n",
              "    .dataframe tbody tr th:only-of-type {\n",
              "        vertical-align: middle;\n",
              "    }\n",
              "\n",
              "    .dataframe tbody tr th {\n",
              "        vertical-align: top;\n",
              "    }\n",
              "\n",
              "    .dataframe thead th {\n",
              "        text-align: right;\n",
              "    }\n",
              "</style>\n",
              "<table border=\"1\" class=\"dataframe\">\n",
              "  <thead>\n",
              "    <tr style=\"text-align: right;\">\n",
              "      <th></th>\n",
              "      <th>ProductTitle</th>\n",
              "      <th>RegularPrice</th>\n",
              "      <th>DiscountPrice</th>\n",
              "      <th>ProductPage</th>\n",
              "      <th>AddToCart</th>\n",
              "    </tr>\n",
              "  </thead>\n",
              "  <tbody>\n",
              "    <tr>\n",
              "      <th>0</th>\n",
              "      <td>Acer A315-23-A7KD</td>\n",
              "      <td>17.590 ден</td>\n",
              "      <td>None</td>\n",
              "      <td>https://clevershop.mk/product/acer-a315-23-a7kd/</td>\n",
              "      <td>?add-to-cart=21494</td>\n",
              "    </tr>\n",
              "    <tr>\n",
              "      <th>1</th>\n",
              "      <td>Acer A315-23-R5P2</td>\n",
              "      <td>27.490 ден</td>\n",
              "      <td>None</td>\n",
              "      <td>https://clevershop.mk/product/acer-a315-23-r5p2/</td>\n",
              "      <td>?add-to-cart=21510</td>\n",
              "    </tr>\n",
              "    <tr>\n",
              "      <th>2</th>\n",
              "      <td>ACER Aspire 1 A115-22</td>\n",
              "      <td>18.999 ден</td>\n",
              "      <td>15.999 ден</td>\n",
              "      <td>https://clevershop.mk/product/acer-aspire-1-nx...</td>\n",
              "      <td>?add-to-cart=20826</td>\n",
              "    </tr>\n",
              "    <tr>\n",
              "      <th>3</th>\n",
              "      <td>Acer Aspire 3 A315-23-R26A</td>\n",
              "      <td>29.990 ден</td>\n",
              "      <td>None</td>\n",
              "      <td>https://clevershop.mk/product/acer-aspire-3-a3...</td>\n",
              "      <td>?add-to-cart=21516</td>\n",
              "    </tr>\n",
              "    <tr>\n",
              "      <th>4</th>\n",
              "      <td>Acer Aspire 3 A315-58-33WK</td>\n",
              "      <td>24.490 ден</td>\n",
              "      <td>None</td>\n",
              "      <td>https://clevershop.mk/product/21498/</td>\n",
              "      <td>?add-to-cart=21498</td>\n",
              "    </tr>\n",
              "    <tr>\n",
              "      <th>5</th>\n",
              "      <td>Acer Aspire 3 A315-58-33WK</td>\n",
              "      <td>25.990 ден</td>\n",
              "      <td>None</td>\n",
              "      <td>https://clevershop.mk/product/acer-aspire-3-a3...</td>\n",
              "      <td>?add-to-cart=21506</td>\n",
              "    </tr>\n",
              "    <tr>\n",
              "      <th>6</th>\n",
              "      <td>ACER Aspire 5 (A515-56-35KA)</td>\n",
              "      <td>23.990 ден</td>\n",
              "      <td>None</td>\n",
              "      <td>https://clevershop.mk/product/acer-aspire-5-a5...</td>\n",
              "      <td>?add-to-cart=21693</td>\n",
              "    </tr>\n",
              "    <tr>\n",
              "      <th>7</th>\n",
              "      <td>ACER ASPIRE 5 A515-45</td>\n",
              "      <td>29.990 ден</td>\n",
              "      <td>None</td>\n",
              "      <td>https://clevershop.mk/product/acer-aspire-5-a5...</td>\n",
              "      <td>?add-to-cart=21523</td>\n",
              "    </tr>\n",
              "    <tr>\n",
              "      <th>8</th>\n",
              "      <td>Acer Aspire 5 A515-45-R07Y Silver</td>\n",
              "      <td>24.990 ден</td>\n",
              "      <td>None</td>\n",
              "      <td>https://clevershop.mk/product/acer-aspire-5-a5...</td>\n",
              "      <td>?add-to-cart=21501</td>\n",
              "    </tr>\n",
              "    <tr>\n",
              "      <th>9</th>\n",
              "      <td>Acer Aspire 5 A515-45-R1FG</td>\n",
              "      <td>36.990 ден</td>\n",
              "      <td>None</td>\n",
              "      <td>https://clevershop.mk/product/acer-aspire-5-a5...</td>\n",
              "      <td>?add-to-cart=18324</td>\n",
              "    </tr>\n",
              "  </tbody>\n",
              "</table>\n",
              "</div>\n",
              "    <div class=\"colab-df-buttons\">\n",
              "\n",
              "  <div class=\"colab-df-container\">\n",
              "    <button class=\"colab-df-convert\" onclick=\"convertToInteractive('df-c38f42fe-d987-4165-a33b-2533955d26c4')\"\n",
              "            title=\"Convert this dataframe to an interactive table.\"\n",
              "            style=\"display:none;\">\n",
              "\n",
              "  <svg xmlns=\"http://www.w3.org/2000/svg\" height=\"24px\" viewBox=\"0 -960 960 960\">\n",
              "    <path d=\"M120-120v-720h720v720H120Zm60-500h600v-160H180v160Zm220 220h160v-160H400v160Zm0 220h160v-160H400v160ZM180-400h160v-160H180v160Zm440 0h160v-160H620v160ZM180-180h160v-160H180v160Zm440 0h160v-160H620v160Z\"/>\n",
              "  </svg>\n",
              "    </button>\n",
              "\n",
              "  <style>\n",
              "    .colab-df-container {\n",
              "      display:flex;\n",
              "      gap: 12px;\n",
              "    }\n",
              "\n",
              "    .colab-df-convert {\n",
              "      background-color: #E8F0FE;\n",
              "      border: none;\n",
              "      border-radius: 50%;\n",
              "      cursor: pointer;\n",
              "      display: none;\n",
              "      fill: #1967D2;\n",
              "      height: 32px;\n",
              "      padding: 0 0 0 0;\n",
              "      width: 32px;\n",
              "    }\n",
              "\n",
              "    .colab-df-convert:hover {\n",
              "      background-color: #E2EBFA;\n",
              "      box-shadow: 0px 1px 2px rgba(60, 64, 67, 0.3), 0px 1px 3px 1px rgba(60, 64, 67, 0.15);\n",
              "      fill: #174EA6;\n",
              "    }\n",
              "\n",
              "    .colab-df-buttons div {\n",
              "      margin-bottom: 4px;\n",
              "    }\n",
              "\n",
              "    [theme=dark] .colab-df-convert {\n",
              "      background-color: #3B4455;\n",
              "      fill: #D2E3FC;\n",
              "    }\n",
              "\n",
              "    [theme=dark] .colab-df-convert:hover {\n",
              "      background-color: #434B5C;\n",
              "      box-shadow: 0px 1px 3px 1px rgba(0, 0, 0, 0.15);\n",
              "      filter: drop-shadow(0px 1px 2px rgba(0, 0, 0, 0.3));\n",
              "      fill: #FFFFFF;\n",
              "    }\n",
              "  </style>\n",
              "\n",
              "    <script>\n",
              "      const buttonEl =\n",
              "        document.querySelector('#df-c38f42fe-d987-4165-a33b-2533955d26c4 button.colab-df-convert');\n",
              "      buttonEl.style.display =\n",
              "        google.colab.kernel.accessAllowed ? 'block' : 'none';\n",
              "\n",
              "      async function convertToInteractive(key) {\n",
              "        const element = document.querySelector('#df-c38f42fe-d987-4165-a33b-2533955d26c4');\n",
              "        const dataTable =\n",
              "          await google.colab.kernel.invokeFunction('convertToInteractive',\n",
              "                                                    [key], {});\n",
              "        if (!dataTable) return;\n",
              "\n",
              "        const docLinkHtml = 'Like what you see? Visit the ' +\n",
              "          '<a target=\"_blank\" href=https://colab.research.google.com/notebooks/data_table.ipynb>data table notebook</a>'\n",
              "          + ' to learn more about interactive tables.';\n",
              "        element.innerHTML = '';\n",
              "        dataTable['output_type'] = 'display_data';\n",
              "        await google.colab.output.renderOutput(dataTable, element);\n",
              "        const docLink = document.createElement('div');\n",
              "        docLink.innerHTML = docLinkHtml;\n",
              "        element.appendChild(docLink);\n",
              "      }\n",
              "    </script>\n",
              "  </div>\n",
              "\n",
              "\n",
              "<div id=\"df-3b7a4df1-df63-48c5-a276-393d6566c0c3\">\n",
              "  <button class=\"colab-df-quickchart\" onclick=\"quickchart('df-3b7a4df1-df63-48c5-a276-393d6566c0c3')\"\n",
              "            title=\"Suggest charts\"\n",
              "            style=\"display:none;\">\n",
              "\n",
              "<svg xmlns=\"http://www.w3.org/2000/svg\" height=\"24px\"viewBox=\"0 0 24 24\"\n",
              "     width=\"24px\">\n",
              "    <g>\n",
              "        <path d=\"M19 3H5c-1.1 0-2 .9-2 2v14c0 1.1.9 2 2 2h14c1.1 0 2-.9 2-2V5c0-1.1-.9-2-2-2zM9 17H7v-7h2v7zm4 0h-2V7h2v10zm4 0h-2v-4h2v4z\"/>\n",
              "    </g>\n",
              "</svg>\n",
              "  </button>\n",
              "\n",
              "<style>\n",
              "  .colab-df-quickchart {\n",
              "      --bg-color: #E8F0FE;\n",
              "      --fill-color: #1967D2;\n",
              "      --hover-bg-color: #E2EBFA;\n",
              "      --hover-fill-color: #174EA6;\n",
              "      --disabled-fill-color: #AAA;\n",
              "      --disabled-bg-color: #DDD;\n",
              "  }\n",
              "\n",
              "  [theme=dark] .colab-df-quickchart {\n",
              "      --bg-color: #3B4455;\n",
              "      --fill-color: #D2E3FC;\n",
              "      --hover-bg-color: #434B5C;\n",
              "      --hover-fill-color: #FFFFFF;\n",
              "      --disabled-bg-color: #3B4455;\n",
              "      --disabled-fill-color: #666;\n",
              "  }\n",
              "\n",
              "  .colab-df-quickchart {\n",
              "    background-color: var(--bg-color);\n",
              "    border: none;\n",
              "    border-radius: 50%;\n",
              "    cursor: pointer;\n",
              "    display: none;\n",
              "    fill: var(--fill-color);\n",
              "    height: 32px;\n",
              "    padding: 0;\n",
              "    width: 32px;\n",
              "  }\n",
              "\n",
              "  .colab-df-quickchart:hover {\n",
              "    background-color: var(--hover-bg-color);\n",
              "    box-shadow: 0 1px 2px rgba(60, 64, 67, 0.3), 0 1px 3px 1px rgba(60, 64, 67, 0.15);\n",
              "    fill: var(--button-hover-fill-color);\n",
              "  }\n",
              "\n",
              "  .colab-df-quickchart-complete:disabled,\n",
              "  .colab-df-quickchart-complete:disabled:hover {\n",
              "    background-color: var(--disabled-bg-color);\n",
              "    fill: var(--disabled-fill-color);\n",
              "    box-shadow: none;\n",
              "  }\n",
              "\n",
              "  .colab-df-spinner {\n",
              "    border: 2px solid var(--fill-color);\n",
              "    border-color: transparent;\n",
              "    border-bottom-color: var(--fill-color);\n",
              "    animation:\n",
              "      spin 1s steps(1) infinite;\n",
              "  }\n",
              "\n",
              "  @keyframes spin {\n",
              "    0% {\n",
              "      border-color: transparent;\n",
              "      border-bottom-color: var(--fill-color);\n",
              "      border-left-color: var(--fill-color);\n",
              "    }\n",
              "    20% {\n",
              "      border-color: transparent;\n",
              "      border-left-color: var(--fill-color);\n",
              "      border-top-color: var(--fill-color);\n",
              "    }\n",
              "    30% {\n",
              "      border-color: transparent;\n",
              "      border-left-color: var(--fill-color);\n",
              "      border-top-color: var(--fill-color);\n",
              "      border-right-color: var(--fill-color);\n",
              "    }\n",
              "    40% {\n",
              "      border-color: transparent;\n",
              "      border-right-color: var(--fill-color);\n",
              "      border-top-color: var(--fill-color);\n",
              "    }\n",
              "    60% {\n",
              "      border-color: transparent;\n",
              "      border-right-color: var(--fill-color);\n",
              "    }\n",
              "    80% {\n",
              "      border-color: transparent;\n",
              "      border-right-color: var(--fill-color);\n",
              "      border-bottom-color: var(--fill-color);\n",
              "    }\n",
              "    90% {\n",
              "      border-color: transparent;\n",
              "      border-bottom-color: var(--fill-color);\n",
              "    }\n",
              "  }\n",
              "</style>\n",
              "\n",
              "  <script>\n",
              "    async function quickchart(key) {\n",
              "      const quickchartButtonEl =\n",
              "        document.querySelector('#' + key + ' button');\n",
              "      quickchartButtonEl.disabled = true;  // To prevent multiple clicks.\n",
              "      quickchartButtonEl.classList.add('colab-df-spinner');\n",
              "      try {\n",
              "        const charts = await google.colab.kernel.invokeFunction(\n",
              "            'suggestCharts', [key], {});\n",
              "      } catch (error) {\n",
              "        console.error('Error during call to suggestCharts:', error);\n",
              "      }\n",
              "      quickchartButtonEl.classList.remove('colab-df-spinner');\n",
              "      quickchartButtonEl.classList.add('colab-df-quickchart-complete');\n",
              "    }\n",
              "    (() => {\n",
              "      let quickchartButtonEl =\n",
              "        document.querySelector('#df-3b7a4df1-df63-48c5-a276-393d6566c0c3 button');\n",
              "      quickchartButtonEl.style.display =\n",
              "        google.colab.kernel.accessAllowed ? 'block' : 'none';\n",
              "    })();\n",
              "  </script>\n",
              "</div>\n",
              "    </div>\n",
              "  </div>\n"
            ],
            "application/vnd.google.colaboratory.intrinsic+json": {
              "type": "dataframe",
              "variable_name": "df",
              "summary": "{\n  \"name\": \"df\",\n  \"rows\": 320,\n  \"fields\": [\n    {\n      \"column\": \"ProductTitle\",\n      \"properties\": {\n        \"dtype\": \"string\",\n        \"num_unique_values\": 315,\n        \"samples\": [\n          \"Samsung Galaxy A22 5G 64GB 4GB RAM\",\n          \"Acer Predator Helios 300 PH315-54-949Y\",\n          \"Lenovo 100e Windows 2nd Gen 81M80035US 11.6\\u2033 Netbook\"\n        ],\n        \"semantic_type\": \"\",\n        \"description\": \"\"\n      }\n    },\n    {\n      \"column\": \"RegularPrice\",\n      \"properties\": {\n        \"dtype\": \"string\",\n        \"num_unique_values\": 183,\n        \"samples\": [\n          \"47.990\\u00a0\\u0434\\u0435\\u043d\",\n          \"38.990\\u00a0\\u0434\\u0435\\u043d\",\n          \"61.990\\u00a0\\u0434\\u0435\\u043d\"\n        ],\n        \"semantic_type\": \"\",\n        \"description\": \"\"\n      }\n    },\n    {\n      \"column\": \"DiscountPrice\",\n      \"properties\": {\n        \"dtype\": \"category\",\n        \"num_unique_values\": 39,\n        \"samples\": [\n          \"12.990\\u00a0\\u0434\\u0435\\u043d\",\n          \"10.990\\u00a0\\u0434\\u0435\\u043d\",\n          \"45.990\\u00a0\\u0434\\u0435\\u043d\"\n        ],\n        \"semantic_type\": \"\",\n        \"description\": \"\"\n      }\n    },\n    {\n      \"column\": \"ProductPage\",\n      \"properties\": {\n        \"dtype\": \"string\",\n        \"num_unique_values\": 320,\n        \"samples\": [\n          \"https://clevershop.mk/product/lenovo-14w-gen-2/\",\n          \"https://clevershop.mk/product/samsung-galaxy-s21-ultra-5g-256gb-12gb-ram/\",\n          \"https://clevershop.mk/product/acer-nitro-5-gaming-an517-41/\"\n        ],\n        \"semantic_type\": \"\",\n        \"description\": \"\"\n      }\n    },\n    {\n      \"column\": \"AddToCart\",\n      \"properties\": {\n        \"dtype\": \"string\",\n        \"num_unique_values\": 320,\n        \"samples\": [\n          \"?add-to-cart=20954\",\n          \"?add-to-cart=20036\",\n          \"?add-to-cart=21316\"\n        ],\n        \"semantic_type\": \"\",\n        \"description\": \"\"\n      }\n    }\n  ]\n}"
            }
          },
          "metadata": {},
          "execution_count": 100
        }
      ]
    },
    {
      "cell_type": "markdown",
      "source": [
        "Save the dataframe as `.csv`"
      ],
      "metadata": {
        "id": "Rxbi54EOyrb8"
      }
    },
    {
      "cell_type": "code",
      "source": [
        "file_path = '/content/drive/MyDrive/Lab1 Scraping.csv'\n",
        "df.to_csv(file_path,index=False)\n"
      ],
      "metadata": {
        "id": "TLNfZQ07yuQE"
      },
      "execution_count": null,
      "outputs": []
    }
  ]
}